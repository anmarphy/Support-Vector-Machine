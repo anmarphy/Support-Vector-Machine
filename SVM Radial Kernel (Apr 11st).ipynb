{
 "cells": [
  {
   "cell_type": "markdown",
   "metadata": {},
   "source": [
    "# SVM: Radial Kernel"
   ]
  },
  {
   "cell_type": "code",
   "execution_count": 25,
   "metadata": {},
   "outputs": [],
   "source": [
    "import matplotlib.pyplot as plt\n",
    "import pandas as pd\n",
    "import numpy as np\n",
    "from sklearn.datasets.samples_generator import make_circles\n",
    "from ipywidgets import interact, fixed\n",
    "from sklearn.svm import SVC"
   ]
  },
  {
   "cell_type": "code",
   "execution_count": 28,
   "metadata": {},
   "outputs": [],
   "source": [
    "def plot_radial(factor, noise):\n",
    "    X,Y = make_circles(100, factor=0.1, noise=0.1)\n",
    "    plt.scatter(X[:,0], X[:,1], c=Y, cmap='summer')\n",
    "    "
   ]
  },
  {
   "cell_type": "code",
   "execution_count": 29,
   "metadata": {},
   "outputs": [
    {
     "data": {
      "application/vnd.jupyter.widget-view+json": {
       "model_id": "c14e02fc190d48f7a20d4d71b9644769",
       "version_major": 2,
       "version_minor": 0
      },
      "text/plain": [
       "interactive(children=(Dropdown(description='factor', options=(0.1, 0.3, 0.5, 0.7, 1), value=0.1), Dropdown(des…"
      ]
     },
     "metadata": {},
     "output_type": "display_data"
    },
    {
     "data": {
      "text/plain": [
       "<function __main__.plot_radial(factor, noise)>"
      ]
     },
     "execution_count": 29,
     "metadata": {},
     "output_type": "execute_result"
    }
   ],
   "source": [
    "interact(plot_radial, factor=[0.1, 0.3, 0.5, 0.7, 1], noise=[0.1, 0.3, 0.5, 0.7, 1])"
   ]
  },
  {
   "cell_type": "code",
   "execution_count": 14,
   "metadata": {},
   "outputs": [],
   "source": [
    "from mpl_toolkits import mplot3d"
   ]
  },
  {
   "cell_type": "code",
   "execution_count": 20,
   "metadata": {},
   "outputs": [],
   "source": [
    "r=np.exp(-(X**2).sum(1))"
   ]
  },
  {
   "cell_type": "code",
   "execution_count": 21,
   "metadata": {},
   "outputs": [],
   "source": [
    "def plot_3D (elev=30, azim=30, X=X, Y=Y, r=r):\n",
    "    ax=plt.subplot(projection='3d')\n",
    "    ax.scatter3D(X[:,0], X[:,1],r,c=Y, s=50, cmap='summer')\n",
    "    ax.view_init(elev=elev, azim=azim)\n",
    "    \n",
    "    ax.set_xlabel('x[0]')\n",
    "    ax.set_ylabel('y[1]')\n",
    "    ax.set_xlabel('r')"
   ]
  },
  {
   "cell_type": "code",
   "execution_count": 23,
   "metadata": {},
   "outputs": [
    {
     "data": {
      "application/vnd.jupyter.widget-view+json": {
       "model_id": "a324b5a73c0d45bb9c4681680400b730",
       "version_major": 2,
       "version_minor": 0
      },
      "text/plain": [
       "interactive(children=(Dropdown(description='elev', index=4, options=(-90, -60, -30, 0, 30, 60, 90), value=30),…"
      ]
     },
     "metadata": {},
     "output_type": "display_data"
    },
    {
     "data": {
      "text/plain": [
       "<function __main__.plot_3D(elev=30, azim=30, X=array([[-0.01267061,  0.15429792],\n",
       "       [-0.70005513,  0.66690982],\n",
       "       [-0.75518373, -0.79530436],\n",
       "       [-1.03435538, -0.47092554],\n",
       "       [-1.00705959,  0.27517387],\n",
       "       [ 0.08876084,  0.25235701],\n",
       "       [ 0.06892401, -0.1609357 ],\n",
       "       [ 0.26531836, -1.00910553],\n",
       "       [-0.49560991, -0.90140343],\n",
       "       [ 0.97462141,  0.2144787 ],\n",
       "       [-0.07172221,  0.14499205],\n",
       "       [ 0.15642188,  0.08089351],\n",
       "       [-0.07043004, -0.19235026],\n",
       "       [ 0.08654936, -0.91784685],\n",
       "       [ 0.23829243,  0.16849635],\n",
       "       [-0.15864243,  0.14861938],\n",
       "       [ 0.99482628, -0.34235707],\n",
       "       [ 0.79418731,  0.63653126],\n",
       "       [ 1.04278161, -0.1191298 ],\n",
       "       [ 1.01390114, -0.25197381],\n",
       "       [-0.5430723 ,  0.7968529 ],\n",
       "       [-0.2754349 , -0.00221728],\n",
       "       [ 0.1700459 ,  0.05691389],\n",
       "       [ 0.59786928, -1.12416361],\n",
       "       [-0.01523264,  0.01573897],\n",
       "       [-0.79926633, -0.47625844],\n",
       "       [-0.13971175, -0.03910019],\n",
       "       [ 0.84970555,  0.84766968],\n",
       "       [-0.03316907,  0.11998575],\n",
       "       [-0.68179519,  0.60952114],\n",
       "       [-0.00317451,  0.88072615],\n",
       "       [ 0.13186063, -0.0201967 ],\n",
       "       [ 0.07736633,  0.19377592],\n",
       "       [-0.14189085, -0.93711436],\n",
       "       [-0.03123137, -0.10687658],\n",
       "       [ 0.67609884, -0.75487224],\n",
       "       [ 0.06243773, -0.11266626],\n",
       "       [ 0.1282818 ,  0.17836514],\n",
       "       [ 1.0307007 ,  0.19858834],\n",
       "       [-0.00370446, -0.14858753],\n",
       "       [-0.14668982,  0.03436816],\n",
       "       [ 0.01748966,  0.13801066],\n",
       "       [ 0.53252572, -0.55701079],\n",
       "       [-0.04504141, -0.140136  ],\n",
       "       [ 0.63720914,  0.65491631],\n",
       "       [ 0.33010645, -0.02844879],\n",
       "       [-0.03181496,  0.06992999],\n",
       "       [-0.97870788,  0.52572253],\n",
       "       [-0.1179227 ,  0.04824019],\n",
       "       [ 0.67661384, -0.82779683],\n",
       "       [ 0.12035445,  0.05466897],\n",
       "       [ 0.0128071 ,  0.08457722],\n",
       "       [-0.09331964, -0.15780963],\n",
       "       [ 0.01362514,  0.00456251],\n",
       "       [-0.9506966 , -0.06086582],\n",
       "       [-0.23987052, -0.97826168],\n",
       "       [-0.14849706,  0.78292142],\n",
       "       [-0.63018372, -0.63407681],\n",
       "       [-0.28142426,  0.9178001 ],\n",
       "       [ 0.04740532,  0.11254995],\n",
       "       [-0.14075655,  0.16100402],\n",
       "       [-0.222084  , -0.00298618],\n",
       "       [-0.03968165, -0.01253628],\n",
       "       [ 0.89004427,  0.60247623],\n",
       "       [-0.92075961,  0.20801614],\n",
       "       [-0.12255778, -0.07942158],\n",
       "       [-0.96633408,  0.4456761 ],\n",
       "       [-0.14009154,  0.06145985],\n",
       "       [ 1.0284752 , -0.05789533],\n",
       "       [ 0.41220963,  0.87702095],\n",
       "       [ 0.79429597, -0.66902265],\n",
       "       [ 0.0360149 ,  0.04501054],\n",
       "       [-0.09419876, -0.7778693 ],\n",
       "       [ 0.18813999,  1.09226953],\n",
       "       [ 1.00398189, -0.58783961],\n",
       "       [ 0.05248211, -0.33309334],\n",
       "       [ 0.00460363, -0.06397356],\n",
       "       [ 0.89470012,  0.18244636],\n",
       "       [ 0.14359765, -0.02452074],\n",
       "       [ 0.09196671,  0.04964785],\n",
       "       [ 0.54659021,  0.90339624],\n",
       "       [ 0.31943394,  1.05107574],\n",
       "       [-0.05080974,  0.07404026],\n",
       "       [-0.91538557, -0.35578725],\n",
       "       [-0.94387508, -0.23807601],\n",
       "       [-0.09614798,  0.07352338],\n",
       "       [ 0.06812919, -0.05015798],\n",
       "       [ 0.03638448,  0.98414706],\n",
       "       [-0.22878761,  0.14416067],\n",
       "       [-0.95970457, -0.629811  ],\n",
       "       [-0.23356579,  0.03546087],\n",
       "       [ 0.08266939,  0.10280671],\n",
       "       [-0.90398517,  0.25536926],\n",
       "       [-0.17039353,  0.07845568],\n",
       "       [-0.44713493,  0.89606648],\n",
       "       [ 0.04888453, -0.12245008],\n",
       "       [-0.16777109, -0.77467187],\n",
       "       [-0.00244833, -0.04290724],\n",
       "       [ 0.15454724,  0.24093247],\n",
       "       [ 0.34412968, -0.96857679]]), Y=array([1, 0, 0, 0, 0, 1, 1, 0, 0, 0, 1, 1, 1, 0, 1, 1, 0, 0, 0, 0, 0, 1,\n",
       "       1, 0, 1, 0, 1, 0, 1, 0, 0, 1, 1, 0, 1, 0, 1, 1, 0, 1, 1, 1, 0, 1,\n",
       "       0, 1, 1, 0, 1, 0, 1, 1, 1, 1, 0, 0, 0, 0, 0, 1, 1, 1, 1, 0, 0, 1,\n",
       "       0, 1, 0, 0, 0, 1, 0, 0, 0, 1, 1, 0, 1, 1, 0, 0, 1, 0, 0, 1, 1, 0,\n",
       "       1, 0, 1, 1, 0, 1, 0, 1, 0, 1, 1, 0], dtype=int64), r=array([0.97631657, 0.39264637, 0.30034859, 0.27481369, 0.33625359,\n",
       "       0.93093805, 0.96981416, 0.33665797, 0.3470948 , 0.36939527,\n",
       "       0.97417261, 0.96946436, 0.95890908, 0.4274433 , 0.9183522 ,\n",
       "       0.953844  , 0.33058625, 0.35490486, 0.33234377, 0.33571714,\n",
       "       0.39459235, 0.92693735, 0.96835667, 0.19766304, 0.99952037,\n",
       "       0.42077848, 0.97917177, 0.23679905, 0.98462269, 0.43328451,\n",
       "       0.46038664, 0.98236227, 0.95739937, 0.40725476, 0.98767854,\n",
       "       0.35810045, 0.98354474, 0.95287615, 0.33227868, 0.97815026,\n",
       "       0.97755661, 0.98083323, 0.55220018, 0.97856621, 0.43389581,\n",
       "       0.8960316 , 0.99411499, 0.29105201, 0.98389816, 0.31884382,\n",
       "       0.98267789, 0.99270938, 0.96694619, 0.99979356, 0.40352022,\n",
       "       0.36257142, 0.5299263 , 0.44969535, 0.39789917, 0.98519592,\n",
       "       0.95529537, 0.95186675, 0.99826971, 0.31500826, 0.41021701,\n",
       "       0.97889764, 0.32224965, 0.97686877, 0.34607039, 0.39098639,\n",
       "       0.34010619, 0.99668249, 0.54120667, 0.29274616, 0.25832545,\n",
       "       0.89252073, 0.99589464, 0.43440631, 0.97900204, 0.98913665,\n",
       "       0.32795279, 0.29915356, 0.99196883, 0.38116791, 0.38767793,\n",
       "       0.98545667, 0.99286814, 0.3791326 , 0.92948364, 0.26775183,\n",
       "       0.94571838, 0.98274712, 0.41378753, 0.96542269, 0.36682706,\n",
       "       0.98276651, 0.53351737, 0.99815468, 0.92133341, 0.34764751]))>"
      ]
     },
     "execution_count": 23,
     "metadata": {},
     "output_type": "execute_result"
    }
   ],
   "source": [
    "from ipywidgets import interact, fixed\n",
    "interact(plot_3D, elev=[-90, -60, -30, 0, 30, 60, 90], azim=[-90, -60, -30, 0, 30, 60, 90], X=fixed(X), Y=fixed(Y), r=fixed(r))"
   ]
  },
  {
   "cell_type": "code",
   "execution_count": 27,
   "metadata": {},
   "outputs": [
    {
     "name": "stderr",
     "output_type": "stream",
     "text": [
      "C:\\Users\\Andrea\\Anaconda3\\lib\\site-packages\\sklearn\\svm\\base.py:193: FutureWarning: The default value of gamma will change from 'auto' to 'scale' in version 0.22 to account better for unscaled features. Set gamma explicitly to 'auto' or 'scale' to avoid this warning.\n",
      "  \"avoid this warning.\", FutureWarning)\n"
     ]
    },
    {
     "data": {
      "text/plain": [
       "SVC(C=1000000.0, cache_size=200, class_weight=None, coef0=0.0,\n",
       "    decision_function_shape='ovr', degree=3, gamma='auto_deprecated',\n",
       "    kernel='rbf', max_iter=-1, probability=False, random_state=None,\n",
       "    shrinking=True, tol=0.001, verbose=False)"
      ]
     },
     "execution_count": 27,
     "metadata": {},
     "output_type": "execute_result"
    }
   ],
   "source": [
    "rbf=SVC(kernel=\"rbf\", C=1E6)\n",
    "rbf.fit(X,Y)"
   ]
  },
  {
   "cell_type": "code",
   "execution_count": 32,
   "metadata": {},
   "outputs": [],
   "source": [
    "def plt_svc (model, ax=None, plot_support=True):\n",
    "    if ax is None:\n",
    "        ax=plt.gca()\n",
    "    xlim=ax.get_xlim()\n",
    "    ylim=ax.get_ylim()\n",
    "    \n",
    "    xx=np.linspace(xlim[0], xlim[1],30)\n",
    "    yy=np.linspace(ylim[0], ylim[1],30)\n",
    "    Y,X=np.meshgrid(yy,xx)\n",
    "    \n",
    "    \n",
    "    xy =np.vstack([X.ravel(), Y.ravel()]).T\n",
    "    P=model.decision_function(xy).reshape(X.shape)\n",
    "    \n",
    "    \n",
    "    ax.contour(X,Y,P, colors='k', levels=[-1,0,1], linestyles=['--', '-' , '--'])\n",
    "    \n",
    "    print(model.support_vectors_)\n",
    "    if plot_support:\n",
    "        ax.scatter(model.support_vectors_[:,0],\n",
    "                  model.support_vectors_[:,1],\n",
    "                  s=60, linewidth=1,)\n",
    "                   "
   ]
  },
  {
   "cell_type": "code",
   "execution_count": 33,
   "metadata": {},
   "outputs": [
    {
     "name": "stdout",
     "output_type": "stream",
     "text": [
      "[[ 0.53252572 -0.55701079]\n",
      " [-0.9506966  -0.06086582]\n",
      " [-0.14849706  0.78292142]\n",
      " [ 0.89470012  0.18244636]\n",
      " [-0.16777109 -0.77467187]\n",
      " [ 0.05248211 -0.33309334]]\n"
     ]
    },
    {
     "data": {
      "image/png": "[encoded data removed]",
      "text/plain": [
       "<Figure size 432x288 with 1 Axes>"
      ]
     },
     "metadata": {
      "needs_background": "light"
     },
     "output_type": "display_data"
    }
   ],
   "source": [
    "plt.scatter(X[:,0], X[:,1], c=Y, s=50, cmap='summer')\n",
    "plt_svc(rbf)"
   ]
  }
 ],
 "metadata": {
  "kernelspec": {
   "display_name": "Python 3",
   "language": "python",
   "name": "python3"
  },
  "language_info": {
   "codemirror_mode": {
    "name": "ipython",
    "version": 3
   },
   "file_extension": ".py",
   "mimetype": "text/x-python",
   "name": "python",
   "nbconvert_exporter": "python",
   "pygments_lexer": "ipython3",
   "version": "3.7.4"
  }
 },
 "nbformat": 4,
 "nbformat_minor": 2
}
