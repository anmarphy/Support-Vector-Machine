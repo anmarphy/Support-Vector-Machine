{
 "cells": [
  {
   "cell_type": "markdown",
   "metadata": {},
   "source": [
    "# SVM: Radial Kernel"
   ]
  },
  {
   "cell_type": "markdown",
   "metadata": {},
   "source": [
    "This notebooks contains an excerpt of the chapter In-Depth: Support Vector Machines from the book the Python Data Science Handbook by Jake VanderPlas. An amazing book wich explains the theorical concepts behind SVM as well as provide the coding scripts"
   ]
  },
  {
   "cell_type": "code",
   "execution_count": 1,
   "metadata": {},
   "outputs": [
    {
     "name": "stderr",
     "output_type": "stream",
     "text": [
      "C:\\ProgramData\\Anaconda3\\lib\\site-packages\\sklearn\\utils\\deprecation.py:144: FutureWarning: The sklearn.datasets.samples_generator module is  deprecated in version 0.22 and will be removed in version 0.24. The corresponding classes / functions should instead be imported from sklearn.datasets. Anything that cannot be imported from sklearn.datasets is now part of the private API.\n",
      "  warnings.warn(message, FutureWarning)\n"
     ]
    }
   ],
   "source": [
    "import matplotlib.pyplot as plt\n",
    "import pandas as pd\n",
    "import numpy as np\n",
    "from sklearn.datasets.samples_generator import make_circles\n",
    "from ipywidgets import interact, fixed\n",
    "from sklearn.svm import SVC"
   ]
  },
  {
   "cell_type": "code",
   "execution_count": 2,
   "metadata": {},
   "outputs": [],
   "source": [
    "def plot_radial(factor, noise):\n",
    "    X,Y = make_circles(100, factor=0.1, noise=0.1)\n",
    "    plt.scatter(X[:,0], X[:,1], c=Y, cmap='summer')\n",
    "    "
   ]
  },
  {
   "cell_type": "code",
   "execution_count": 3,
   "metadata": {},
   "outputs": [],
   "source": [
    "X, Y = make_circles(100, factor=.1, noise=.1)"
   ]
  },
  {
   "cell_type": "code",
   "execution_count": 4,
   "metadata": {},
   "outputs": [
    {
     "data": {
      "application/vnd.jupyter.widget-view+json": {
       "model_id": "38246fd671084e659a262d41c46375ce",
       "version_major": 2,
       "version_minor": 0
      },
      "text/plain": [
       "interactive(children=(Dropdown(description='factor', options=(0.1, 0.3, 0.5, 0.7, 1), value=0.1), Dropdown(des…"
      ]
     },
     "metadata": {},
     "output_type": "display_data"
    },
    {
     "data": {
      "text/plain": [
       "<function __main__.plot_radial(factor, noise)>"
      ]
     },
     "execution_count": 4,
     "metadata": {},
     "output_type": "execute_result"
    }
   ],
   "source": [
    "interact(plot_radial, factor=[0.1, 0.3, 0.5, 0.7, 1], noise=[0.1, 0.3, 0.5, 0.7, 1])"
   ]
  },
  {
   "cell_type": "code",
   "execution_count": 5,
   "metadata": {},
   "outputs": [],
   "source": [
    "from mpl_toolkits import mplot3d"
   ]
  },
  {
   "cell_type": "code",
   "execution_count": 6,
   "metadata": {},
   "outputs": [],
   "source": [
    "r=np.exp(-(X**2).sum(1))"
   ]
  },
  {
   "cell_type": "code",
   "execution_count": 7,
   "metadata": {},
   "outputs": [],
   "source": [
    "def plot_3D (elev=30, azim=30, X=X, Y=Y, r=r):\n",
    "    ax=plt.subplot(projection='3d')\n",
    "    ax.scatter3D(X[:,0], X[:,1],r,c=Y, s=50, cmap='summer')\n",
    "    ax.view_init(elev=elev, azim=azim)\n",
    "    \n",
    "    ax.set_xlabel('x[0]')\n",
    "    ax.set_ylabel('y[1]')\n",
    "    ax.set_xlabel('r')"
   ]
  },
  {
   "cell_type": "code",
   "execution_count": 8,
   "metadata": {},
   "outputs": [
    {
     "data": {
      "application/vnd.jupyter.widget-view+json": {
       "model_id": "75cea7b628de4e7c8e1d4ff926dbb772",
       "version_major": 2,
       "version_minor": 0
      },
      "text/plain": [
       "interactive(children=(Dropdown(description='elev', index=4, options=(-90, -60, -30, 0, 30, 60, 90), value=30),…"
      ]
     },
     "metadata": {},
     "output_type": "display_data"
    },
    {
     "data": {
      "text/plain": [
       "<function __main__.plot_3D(elev=30, azim=30, X=array([[-0.73905673,  0.69622479],\n",
       "       [-0.05873646, -1.03051915],\n",
       "       [ 0.77192631, -0.68554187],\n",
       "       [-1.19681806,  0.30223741],\n",
       "       [ 0.05288613, -0.08980853],\n",
       "       [ 0.18813618, -0.08471111],\n",
       "       [ 0.05725304, -0.19283366],\n",
       "       [-0.00650941, -0.11892477],\n",
       "       [ 0.02130932,  0.23972247],\n",
       "       [-0.12078109, -0.01331146],\n",
       "       [ 0.03772034,  0.12864735],\n",
       "       [-1.14050605,  0.56525765],\n",
       "       [ 0.28317293, -0.79385488],\n",
       "       [-0.83669979, -0.68799519],\n",
       "       [ 0.76497251,  0.81309784],\n",
       "       [ 0.11732007,  0.89097598],\n",
       "       [-0.10574572,  0.01072751],\n",
       "       [-0.08190692, -0.23418381],\n",
       "       [ 0.06530924, -0.09440916],\n",
       "       [ 0.51436775,  0.78314554],\n",
       "       [ 0.1269875 , -0.04780128],\n",
       "       [ 0.42922557,  0.81561192],\n",
       "       [ 0.04374585, -0.12607984],\n",
       "       [ 1.03501318,  0.05484314],\n",
       "       [ 0.03044052, -0.12870067],\n",
       "       [ 0.84455652,  0.3015603 ],\n",
       "       [ 0.16255002, -0.13635853],\n",
       "       [-1.05695703, -0.07126271],\n",
       "       [ 0.10009627,  0.13075325],\n",
       "       [ 0.0748014 ,  0.96965497],\n",
       "       [-0.54091156,  0.94200459],\n",
       "       [ 1.09276216, -0.37929068],\n",
       "       [-0.94098642,  0.2538429 ],\n",
       "       [ 0.45398883,  1.01481518],\n",
       "       [-0.59303568, -0.79324476],\n",
       "       [-0.10258652,  0.17604309],\n",
       "       [ 0.02434775, -0.04938334],\n",
       "       [ 0.0714667 ,  0.07005414],\n",
       "       [ 0.10004141, -0.06431429],\n",
       "       [ 0.1744308 , -0.03394391],\n",
       "       [ 0.30686239, -0.94168767],\n",
       "       [ 0.07666819,  0.04731268],\n",
       "       [-0.7216085 , -0.83395996],\n",
       "       [ 0.12384884,  0.05201426],\n",
       "       [-0.78695408, -0.61995427],\n",
       "       [ 0.89712357,  0.16810801],\n",
       "       [ 0.02940889,  0.14129054],\n",
       "       [-0.01975434, -0.04998376],\n",
       "       [-0.05441973,  0.09102447],\n",
       "       [ 0.02485446,  0.07392635],\n",
       "       [-0.52438742,  0.94584391],\n",
       "       [ 0.04573228, -0.14025063],\n",
       "       [ 0.21015454,  0.00526386],\n",
       "       [ 0.50724043, -0.97705945],\n",
       "       [ 0.69271081, -0.89881752],\n",
       "       [-0.18223037, -0.83833983],\n",
       "       [ 0.930642  ,  0.39695686],\n",
       "       [-0.8817448 , -0.24012579],\n",
       "       [-0.03465395, -0.05900029],\n",
       "       [-0.04897451,  0.07391767],\n",
       "       [-1.00726224, -0.38525077],\n",
       "       [-0.17309681,  0.02943858],\n",
       "       [-0.25490912, -0.01530551],\n",
       "       [-0.18285605,  0.81360685],\n",
       "       [-0.01827624, -0.06130669],\n",
       "       [-1.04177237,  0.36756178],\n",
       "       [-0.87067842,  0.51981881],\n",
       "       [ 0.90684102,  0.51953414],\n",
       "       [ 0.18499477, -0.07283995],\n",
       "       [-0.32973271,  0.8913544 ],\n",
       "       [ 0.19902228,  0.15200532],\n",
       "       [ 0.478649  , -0.80095543],\n",
       "       [ 0.77755326,  0.54263421],\n",
       "       [-0.0026072 ,  0.17155359],\n",
       "       [ 0.12954451, -0.1642011 ],\n",
       "       [-0.14195139, -0.0374591 ],\n",
       "       [ 0.14041307,  0.02315442],\n",
       "       [ 0.06141538,  1.04600542],\n",
       "       [ 0.26625434,  0.00942827],\n",
       "       [-0.55381101,  0.650512  ],\n",
       "       [ 1.12984786, -0.03402345],\n",
       "       [-0.12161185, -0.01121968],\n",
       "       [ 0.89798317, -0.09980357],\n",
       "       [-0.21971437, -0.94258636],\n",
       "       [-0.00387532, -0.02684846],\n",
       "       [ 0.6706371 , -0.63138792],\n",
       "       [ 0.11058181, -0.02333947],\n",
       "       [-0.77445919, -0.16192056],\n",
       "       [ 0.99206897,  0.52460859],\n",
       "       [ 0.87414096, -0.4460057 ],\n",
       "       [-0.12691786,  0.0476965 ],\n",
       "       [-0.1338553 , -0.1019433 ],\n",
       "       [-0.30921328, -1.03772378],\n",
       "       [-0.63908006, -0.80742967],\n",
       "       [-0.1430015 , -0.05930056],\n",
       "       [ 0.17386243,  0.08571983],\n",
       "       [ 0.1537801 ,  0.07433288],\n",
       "       [-0.15684202,  0.14104079],\n",
       "       [-0.0777115 ,  0.08818348],\n",
       "       [-0.03078754, -1.19470058]]), Y=array([0, 0, 0, 0, 1, 1, 1, 1, 1, 1, 1, 0, 0, 0, 0, 0, 1, 1, 1, 0, 1, 0,\n",
       "       1, 0, 1, 0, 1, 0, 1, 0, 0, 0, 0, 0, 0, 1, 1, 1, 1, 1, 0, 1, 0, 1,\n",
       "       0, 0, 1, 1, 1, 1, 0, 1, 1, 0, 0, 0, 0, 0, 1, 1, 0, 1, 1, 0, 1, 0,\n",
       "       0, 0, 1, 0, 1, 0, 0, 1, 1, 1, 1, 0, 1, 0, 0, 1, 0, 0, 1, 0, 1, 0,\n",
       "       0, 0, 1, 1, 0, 0, 1, 1, 1, 1, 1, 0], dtype=int64), r=array([0.35667374, 0.34458321, 0.34443913, 0.21789959, 0.98919627,\n",
       "       0.95832223, 0.96034496, 0.98591467, 0.94372455, 0.9853432 ,\n",
       "       0.98218759, 0.19784522, 0.49145127, 0.30931227, 0.28756365,\n",
       "       0.44592603, 0.98876634, 0.94030518, 0.98690807, 0.41565856,\n",
       "       0.98175766, 0.42764692, 0.98234783, 0.34155039, 0.98266158,\n",
       "       0.44743933, 0.95598204, 0.32555087, 0.97324865, 0.38835865,\n",
       "       0.30729166, 0.26237236, 0.38678292, 0.29055694, 0.37496276,\n",
       "       0.95933479, 0.99697306, 0.99003491, 0.98595495, 0.96891509,\n",
       "       0.3749584 , 0.99191635, 0.29635179, 0.9821178 , 0.36654279,\n",
       "       0.43470353, 0.9793875 , 0.99711556, 0.98881605, 0.99393561,\n",
       "       0.31049023, 0.9784734 , 0.95676963, 0.29761993, 0.27589878,\n",
       "       0.47901586, 0.35927424, 0.43381622, 0.99532901, 0.9921685 ,\n",
       "       0.31254858, 0.96964124, 0.93686796, 0.49887863, 0.99591583,\n",
       "       0.29511465, 0.35761707, 0.33545201, 0.96124234, 0.405256  ,\n",
       "       0.93921066, 0.41868582, 0.40695976, 0.97099163, 0.95719918,\n",
       "       0.97867723, 0.97995174, 0.33357112, 0.93148027, 0.48197044,\n",
       "       0.27867368, 0.98519536, 0.44204901, 0.39190201, 0.99926441,\n",
       "       0.42809727, 0.98730816, 0.5347236 , 0.28382001, 0.38172932,\n",
       "       0.98178484, 0.97208729, 0.3095971 , 0.34632903, 0.97631892,\n",
       "       0.96312118, 0.97124775, 0.95648333, 0.98627959, 0.23972632]))>"
      ]
     },
     "execution_count": 8,
     "metadata": {},
     "output_type": "execute_result"
    }
   ],
   "source": [
    "from ipywidgets import interact, fixed\n",
    "interact(plot_3D, elev=[-90, -60, -30, 0, 30, 60, 90], azim=[-90, -60, -30, 0, 30, 60, 90], X=fixed(X), Y=fixed(Y), r=fixed(r))"
   ]
  },
  {
   "cell_type": "code",
   "execution_count": 9,
   "metadata": {},
   "outputs": [
    {
     "data": {
      "text/plain": [
       "SVC(C=1000000.0, break_ties=False, cache_size=200, class_weight=None, coef0=0.0,\n",
       "    decision_function_shape='ovr', degree=3, gamma='scale', kernel='rbf',\n",
       "    max_iter=-1, probability=False, random_state=None, shrinking=True,\n",
       "    tol=0.001, verbose=False)"
      ]
     },
     "execution_count": 9,
     "metadata": {},
     "output_type": "execute_result"
    }
   ],
   "source": [
    "rbf=SVC(kernel=\"rbf\", C=1E6)\n",
    "rbf.fit(X,Y)"
   ]
  },
  {
   "cell_type": "code",
   "execution_count": 10,
   "metadata": {},
   "outputs": [],
   "source": [
    "def plt_svc (model, ax=None, plot_support=True):\n",
    "    if ax is None:\n",
    "        ax=plt.gca()\n",
    "    xlim=ax.get_xlim()\n",
    "    ylim=ax.get_ylim()\n",
    "    \n",
    "    xx=np.linspace(xlim[0], xlim[1],30)\n",
    "    yy=np.linspace(ylim[0], ylim[1],30)\n",
    "    Y,X=np.meshgrid(yy,xx)\n",
    "    \n",
    "    \n",
    "    xy =np.vstack([X.ravel(), Y.ravel()]).T\n",
    "    P=model.decision_function(xy).reshape(X.shape)\n",
    "    \n",
    "    \n",
    "    ax.contour(X,Y,P, colors='k', levels=[-1,0,1], linestyles=['--', '-' , '--'])\n",
    "    \n",
    "    print(model.support_vectors_)\n",
    "    if plot_support:\n",
    "        ax.scatter(model.support_vectors_[:,0],\n",
    "                  model.support_vectors_[:,1],\n",
    "                  s=60, linewidth=1,)\n",
    "                   "
   ]
  },
  {
   "cell_type": "code",
   "execution_count": 11,
   "metadata": {},
   "outputs": [
    {
     "name": "stdout",
     "output_type": "stream",
     "text": [
      "[[ 0.28317293 -0.79385488]\n",
      " [ 0.42922557  0.81561192]\n",
      " [ 0.84455652  0.3015603 ]\n",
      " [-0.18223037 -0.83833983]\n",
      " [-0.18285605  0.81360685]\n",
      " [-0.55381101  0.650512  ]\n",
      " [ 0.89798317 -0.09980357]\n",
      " [-0.77445919 -0.16192056]\n",
      " [-0.08190692 -0.23418381]\n",
      " [-0.25490912 -0.01530551]\n",
      " [ 0.26625434  0.00942827]]\n"
     ]
    },
    {
     "data": {
      "image/png": "[encoded data removed]",
      "text/plain": [
       "<Figure size 432x288 with 1 Axes>"
      ]
     },
     "metadata": {
      "needs_background": "light"
     },
     "output_type": "display_data"
    }
   ],
   "source": [
    "plt.scatter(X[:,0], X[:,1], c=Y, s=50, cmap='summer')\n",
    "plt_svc(rbf)"
   ]
  }
 ],
 "metadata": {
  "kernelspec": {
   "display_name": "Python 3",
   "language": "python",
   "name": "python3"
  },
  "language_info": {
   "codemirror_mode": {
    "name": "ipython",
    "version": 3
   },
   "file_extension": ".py",
   "mimetype": "text/x-python",
   "name": "python",
   "nbconvert_exporter": "python",
   "pygments_lexer": "ipython3",
   "version": "3.7.6"
  }
 },
 "nbformat": 4,
 "nbformat_minor": 2
}
